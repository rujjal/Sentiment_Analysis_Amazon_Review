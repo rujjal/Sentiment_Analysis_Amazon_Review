{
 "cells": [
  {
   "cell_type": "markdown",
   "id": "47679fd5",
   "metadata": {},
   "source": [
    "# Sentiment Analysis in Python\n",
    "\n",
    "In this project, we will be doing some sentiment anlysis using two different techniques:\n",
    "\n",
    "1. VADER(Valence Aware Dictionary and sEntiment Reasoner) - Bag of words approach\n",
    "2. Roberta pre-trained model from Hugging Face\n",
    "3. HUggingFace pipeline"
   ]
  },
  {
   "cell_type": "code",
   "execution_count": 1,
   "id": "5b70d37b",
   "metadata": {},
   "outputs": [],
   "source": [
    "#importing necessary libraries\n",
    "import pandas as pd\n",
    "import numpy as np\n",
    "import matplotlib.pyplot as plt\n",
    "import seaborn as sns\n",
    "import nltk\n",
    "\n",
    "#plt.style.use('ggplot')\n"
   ]
  },
  {
   "cell_type": "code",
   "execution_count": 4,
   "id": "a10c58f8",
   "metadata": {},
   "outputs": [],
   "source": [
    "#Reading the data\n",
    "df = pd.read_csv('/Users/rujjalsada/Rujjal/Practice/Sentiment_Analysis_Amazon_Review/Reviews.csv')"
   ]
  },
  {
   "cell_type": "code",
   "execution_count": 5,
   "id": "d4ba2a96",
   "metadata": {},
   "outputs": [
    {
     "data": {
      "text/html": [
       "<div>\n",
       "<style scoped>\n",
       "    .dataframe tbody tr th:only-of-type {\n",
       "        vertical-align: middle;\n",
       "    }\n",
       "\n",
       "    .dataframe tbody tr th {\n",
       "        vertical-align: top;\n",
       "    }\n",
       "\n",
       "    .dataframe thead th {\n",
       "        text-align: right;\n",
       "    }\n",
       "</style>\n",
       "<table border=\"1\" class=\"dataframe\">\n",
       "  <thead>\n",
       "    <tr style=\"text-align: right;\">\n",
       "      <th></th>\n",
       "      <th>Id</th>\n",
       "      <th>ProductId</th>\n",
       "      <th>UserId</th>\n",
       "      <th>ProfileName</th>\n",
       "      <th>HelpfulnessNumerator</th>\n",
       "      <th>HelpfulnessDenominator</th>\n",
       "      <th>Score</th>\n",
       "      <th>Time</th>\n",
       "      <th>Summary</th>\n",
       "      <th>Text</th>\n",
       "    </tr>\n",
       "  </thead>\n",
       "  <tbody>\n",
       "    <tr>\n",
       "      <th>0</th>\n",
       "      <td>1</td>\n",
       "      <td>B001E4KFG0</td>\n",
       "      <td>A3SGXH7AUHU8GW</td>\n",
       "      <td>delmartian</td>\n",
       "      <td>1</td>\n",
       "      <td>1</td>\n",
       "      <td>5</td>\n",
       "      <td>1303862400</td>\n",
       "      <td>Good Quality Dog Food</td>\n",
       "      <td>I have bought several of the Vitality canned d...</td>\n",
       "    </tr>\n",
       "    <tr>\n",
       "      <th>1</th>\n",
       "      <td>2</td>\n",
       "      <td>B00813GRG4</td>\n",
       "      <td>A1D87F6ZCVE5NK</td>\n",
       "      <td>dll pa</td>\n",
       "      <td>0</td>\n",
       "      <td>0</td>\n",
       "      <td>1</td>\n",
       "      <td>1346976000</td>\n",
       "      <td>Not as Advertised</td>\n",
       "      <td>Product arrived labeled as Jumbo Salted Peanut...</td>\n",
       "    </tr>\n",
       "    <tr>\n",
       "      <th>2</th>\n",
       "      <td>3</td>\n",
       "      <td>B000LQOCH0</td>\n",
       "      <td>ABXLMWJIXXAIN</td>\n",
       "      <td>Natalia Corres \"Natalia Corres\"</td>\n",
       "      <td>1</td>\n",
       "      <td>1</td>\n",
       "      <td>4</td>\n",
       "      <td>1219017600</td>\n",
       "      <td>\"Delight\" says it all</td>\n",
       "      <td>This is a confection that has been around a fe...</td>\n",
       "    </tr>\n",
       "    <tr>\n",
       "      <th>3</th>\n",
       "      <td>4</td>\n",
       "      <td>B000UA0QIQ</td>\n",
       "      <td>A395BORC6FGVXV</td>\n",
       "      <td>Karl</td>\n",
       "      <td>3</td>\n",
       "      <td>3</td>\n",
       "      <td>2</td>\n",
       "      <td>1307923200</td>\n",
       "      <td>Cough Medicine</td>\n",
       "      <td>If you are looking for the secret ingredient i...</td>\n",
       "    </tr>\n",
       "    <tr>\n",
       "      <th>4</th>\n",
       "      <td>5</td>\n",
       "      <td>B006K2ZZ7K</td>\n",
       "      <td>A1UQRSCLF8GW1T</td>\n",
       "      <td>Michael D. Bigham \"M. Wassir\"</td>\n",
       "      <td>0</td>\n",
       "      <td>0</td>\n",
       "      <td>5</td>\n",
       "      <td>1350777600</td>\n",
       "      <td>Great taffy</td>\n",
       "      <td>Great taffy at a great price.  There was a wid...</td>\n",
       "    </tr>\n",
       "  </tbody>\n",
       "</table>\n",
       "</div>"
      ],
      "text/plain": [
       "   Id   ProductId          UserId                      ProfileName  \\\n",
       "0   1  B001E4KFG0  A3SGXH7AUHU8GW                       delmartian   \n",
       "1   2  B00813GRG4  A1D87F6ZCVE5NK                           dll pa   \n",
       "2   3  B000LQOCH0   ABXLMWJIXXAIN  Natalia Corres \"Natalia Corres\"   \n",
       "3   4  B000UA0QIQ  A395BORC6FGVXV                             Karl   \n",
       "4   5  B006K2ZZ7K  A1UQRSCLF8GW1T    Michael D. Bigham \"M. Wassir\"   \n",
       "\n",
       "   HelpfulnessNumerator  HelpfulnessDenominator  Score        Time  \\\n",
       "0                     1                       1      5  1303862400   \n",
       "1                     0                       0      1  1346976000   \n",
       "2                     1                       1      4  1219017600   \n",
       "3                     3                       3      2  1307923200   \n",
       "4                     0                       0      5  1350777600   \n",
       "\n",
       "                 Summary                                               Text  \n",
       "0  Good Quality Dog Food  I have bought several of the Vitality canned d...  \n",
       "1      Not as Advertised  Product arrived labeled as Jumbo Salted Peanut...  \n",
       "2  \"Delight\" says it all  This is a confection that has been around a fe...  \n",
       "3         Cough Medicine  If you are looking for the secret ingredient i...  \n",
       "4            Great taffy  Great taffy at a great price.  There was a wid...  "
      ]
     },
     "execution_count": 5,
     "metadata": {},
     "output_type": "execute_result"
    }
   ],
   "source": [
    "df.head()"
   ]
  },
  {
   "cell_type": "code",
   "execution_count": 7,
   "id": "5062e006",
   "metadata": {},
   "outputs": [
    {
     "data": {
      "text/plain": [
       "(568454, 10)"
      ]
     },
     "execution_count": 7,
     "metadata": {},
     "output_type": "execute_result"
    }
   ],
   "source": [
    "df.shape"
   ]
  },
  {
   "cell_type": "markdown",
   "id": "57cac480",
   "metadata": {},
   "source": [
    "# EDA\n"
   ]
  },
  {
   "cell_type": "code",
   "execution_count": 10,
   "id": "999329d3",
   "metadata": {},
   "outputs": [
    {
     "data": {
      "text/plain": [
       "1     52268\n",
       "2     29769\n",
       "3     42640\n",
       "4     80655\n",
       "5    363122\n",
       "Name: Score, dtype: int64"
      ]
     },
     "execution_count": 10,
     "metadata": {},
     "output_type": "execute_result"
    }
   ],
   "source": [
    "df['Score'].value_counts().sort_index()"
   ]
  },
  {
   "cell_type": "code",
   "execution_count": 9,
   "id": "a0f25113",
   "metadata": {},
   "outputs": [
    {
     "data": {
      "image/png": "[encoded data removed]",
      "text/plain": [
       "<Figure size 1000x500 with 1 Axes>"
      ]
     },
     "metadata": {},
     "output_type": "display_data"
    }
   ],
   "source": [
    "ax = df['Score'].value_counts().sort_index() \\\n",
    "        .plot(kind = 'bar',\n",
    "             title = 'Count of Reviews by stars',\n",
    "             figsize = (10,5))\n",
    "ax.set_xlabel('Review Stars')\n",
    "plt.show()"
   ]
  },
  {
   "cell_type": "markdown",
   "id": "f269ca65",
   "metadata": {},
   "source": [
    "# Basic NLTK"
   ]
  },
  {
   "cell_type": "code",
   "execution_count": 18,
   "id": "1c3f4e16",
   "metadata": {},
   "outputs": [
    {
     "name": "stdout",
     "output_type": "stream",
     "text": [
      "The mouth says, \"How do I love thee, let me count the ways...\"<br />If you like apple products a must have item.  The only draw back, shipping cost.  These are very heavy.\n"
     ]
    }
   ],
   "source": [
    "example = df['Text'][100]\n",
    "print(example)"
   ]
  },
  {
   "cell_type": "code",
   "execution_count": 32,
   "id": "ad89008c",
   "metadata": {},
   "outputs": [
    {
     "name": "stderr",
     "output_type": "stream",
     "text": [
      "[nltk_data] Downloading package punkt to\n",
      "[nltk_data]     /Users/rujjalsada/nltk_data...\n",
      "[nltk_data]   Package punkt is already up-to-date!\n",
      "[nltk_data] Downloading package averaged_perceptron_tagger to\n",
      "[nltk_data]     /Users/rujjalsada/nltk_data...\n",
      "[nltk_data]   Package averaged_perceptron_tagger is already up-to-\n",
      "[nltk_data]       date!\n",
      "[nltk_data] Downloading package maxent_ne_chunker to\n",
      "[nltk_data]     /Users/rujjalsada/nltk_data...\n",
      "[nltk_data]   Package maxent_ne_chunker is already up-to-date!\n",
      "[nltk_data] Downloading package words to\n",
      "[nltk_data]     /Users/rujjalsada/nltk_data...\n",
      "[nltk_data]   Unzipping corpora/words.zip.\n"
     ]
    },
    {
     "data": {
      "text/plain": [
       "True"
      ]
     },
     "execution_count": 32,
     "metadata": {},
     "output_type": "execute_result"
    }
   ],
   "source": [
    "import nltk\n",
    "nltk.download('punkt')\n",
    "nltk.download('averaged_perceptron_tagger')\n",
    "nltk.download('maxent_ne_chunker')\n",
    "nltk.download('words')"
   ]
  },
  {
   "cell_type": "code",
   "execution_count": 24,
   "id": "33e54ad6",
   "metadata": {},
   "outputs": [
    {
     "data": {
      "text/plain": [
       "['The',\n",
       " 'mouth',\n",
       " 'says',\n",
       " ',',\n",
       " '``',\n",
       " 'How',\n",
       " 'do',\n",
       " 'I',\n",
       " 'love',\n",
       " 'thee',\n",
       " ',',\n",
       " 'let',\n",
       " 'me',\n",
       " 'count',\n",
       " 'the',\n",
       " 'ways',\n",
       " '...',\n",
       " \"''\",\n",
       " '<',\n",
       " 'br',\n",
       " '/',\n",
       " '>',\n",
       " 'If',\n",
       " 'you',\n",
       " 'like',\n",
       " 'apple',\n",
       " 'products',\n",
       " 'a',\n",
       " 'must',\n",
       " 'have',\n",
       " 'item',\n",
       " '.',\n",
       " 'The',\n",
       " 'only',\n",
       " 'draw',\n",
       " 'back',\n",
       " ',',\n",
       " 'shipping',\n",
       " 'cost',\n",
       " '.',\n",
       " 'These',\n",
       " 'are',\n",
       " 'very',\n",
       " 'heavy',\n",
       " '.']"
      ]
     },
     "execution_count": 24,
     "metadata": {},
     "output_type": "execute_result"
    }
   ],
   "source": [
    "tokens = nltk.word_tokenize(example)\n",
    "tokens"
   ]
  },
  {
   "cell_type": "code",
   "execution_count": 28,
   "id": "f76605c8",
   "metadata": {},
   "outputs": [
    {
     "data": {
      "text/plain": [
       "[('The', 'DT'),\n",
       " ('mouth', 'NN'),\n",
       " ('says', 'VBZ'),\n",
       " (',', ','),\n",
       " ('``', '``'),\n",
       " ('How', 'WRB'),\n",
       " ('do', 'VB'),\n",
       " ('I', 'PRP'),\n",
       " ('love', 'VB'),\n",
       " ('thee', 'NN'),\n",
       " (',', ','),\n",
       " ('let', 'VB'),\n",
       " ('me', 'PRP'),\n",
       " ('count', 'VB'),\n",
       " ('the', 'DT'),\n",
       " ('ways', 'NNS'),\n",
       " ('...', ':'),\n",
       " (\"''\", \"''\"),\n",
       " ('<', 'VBZ'),\n",
       " ('br', 'NN'),\n",
       " ('/', 'NNP'),\n",
       " ('>', 'NNP'),\n",
       " ('If', 'IN'),\n",
       " ('you', 'PRP'),\n",
       " ('like', 'VBP'),\n",
       " ('apple', 'NN'),\n",
       " ('products', 'NNS'),\n",
       " ('a', 'DT'),\n",
       " ('must', 'MD'),\n",
       " ('have', 'VB'),\n",
       " ('item', 'NN'),\n",
       " ('.', '.'),\n",
       " ('The', 'DT'),\n",
       " ('only', 'JJ'),\n",
       " ('draw', 'NN'),\n",
       " ('back', 'RB'),\n",
       " (',', ','),\n",
       " ('shipping', 'VBG'),\n",
       " ('cost', 'NN'),\n",
       " ('.', '.'),\n",
       " ('These', 'DT'),\n",
       " ('are', 'VBP'),\n",
       " ('very', 'RB'),\n",
       " ('heavy', 'JJ'),\n",
       " ('.', '.')]"
      ]
     },
     "execution_count": 28,
     "metadata": {},
     "output_type": "execute_result"
    }
   ],
   "source": [
    "tagged = nltk.pos_tag(tokens)\n",
    "tagged"
   ]
  },
  {
   "cell_type": "code",
   "execution_count": 33,
   "id": "946c8dff",
   "metadata": {},
   "outputs": [
    {
     "name": "stdout",
     "output_type": "stream",
     "text": [
      "(S\n",
      "  The/DT\n",
      "  mouth/NN\n",
      "  says/VBZ\n",
      "  ,/,\n",
      "  ``/``\n",
      "  How/WRB\n",
      "  do/VB\n",
      "  I/PRP\n",
      "  love/VB\n",
      "  thee/NN\n",
      "  ,/,\n",
      "  let/VB\n",
      "  me/PRP\n",
      "  count/VB\n",
      "  the/DT\n",
      "  ways/NNS\n",
      "  .../:\n",
      "  ''/''\n",
      "  </VBZ\n",
      "  br/NN\n",
      "  //NNP\n",
      "  >/NNP\n",
      "  If/IN\n",
      "  you/PRP\n",
      "  like/VBP\n",
      "  apple/NN\n",
      "  products/NNS\n",
      "  a/DT\n",
      "  must/MD\n",
      "  have/VB\n",
      "  item/NN\n",
      "  ./.\n",
      "  The/DT\n",
      "  only/JJ\n",
      "  draw/NN\n",
      "  back/RB\n",
      "  ,/,\n",
      "  shipping/VBG\n",
      "  cost/NN\n",
      "  ./.\n",
      "  These/DT\n",
      "  are/VBP\n",
      "  very/RB\n",
      "  heavy/JJ\n",
      "  ./.)\n"
     ]
    }
   ],
   "source": [
    "entities = nltk.chunk.ne_chunk(tagged)\n",
    "entities.pprint()"
   ]
  },
  {
   "cell_type": "code",
   "execution_count": null,
   "id": "a544e24f",
   "metadata": {},
   "outputs": [],
   "source": []
  },
  {
   "cell_type": "code",
   "execution_count": null,
   "id": "7c1f8839",
   "metadata": {},
   "outputs": [],
   "source": []
  },
  {
   "cell_type": "code",
   "execution_count": null,
   "id": "bc0e11c7",
   "metadata": {},
   "outputs": [],
   "source": []
  },
  {
   "cell_type": "code",
   "execution_count": null,
   "id": "5220a53e",
   "metadata": {},
   "outputs": [],
   "source": []
  },
  {
   "cell_type": "code",
   "execution_count": null,
   "id": "7442c470",
   "metadata": {},
   "outputs": [],
   "source": []
  },
  {
   "cell_type": "code",
   "execution_count": null,
   "id": "f1797f10",
   "metadata": {},
   "outputs": [],
   "source": []
  },
  {
   "cell_type": "code",
   "execution_count": null,
   "id": "c18992cc",
   "metadata": {},
   "outputs": [],
   "source": []
  },
  {
   "cell_type": "code",
   "execution_count": null,
   "id": "1c9fdb8a",
   "metadata": {},
   "outputs": [],
   "source": []
  },
  {
   "cell_type": "code",
   "execution_count": null,
   "id": "6b90c3df",
   "metadata": {},
   "outputs": [],
   "source": []
  }
 ],
 "metadata": {
  "kernelspec": {
   "display_name": "Python 3 (ipykernel)",
   "language": "python",
   "name": "python3"
  },
  "language_info": {
   "codemirror_mode": {
    "name": "ipython",
    "version": 3
   },
   "file_extension": ".py",
   "mimetype": "text/x-python",
   "name": "python",
   "nbconvert_exporter": "python",
   "pygments_lexer": "ipython3",
   "version": "3.9.17"
  }
 },
 "nbformat": 4,
 "nbformat_minor": 5
}
